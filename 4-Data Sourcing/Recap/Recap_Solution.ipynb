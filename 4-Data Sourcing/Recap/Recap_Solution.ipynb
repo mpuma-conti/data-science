{
 "cells": [
  {
   "cell_type": "markdown",
   "metadata": {},
   "source": [
    "# CSV + API\n",
    "\n",
    "In this reboot, we are going to use:\n",
    "\n",
    "- The [Goodreads books](https://www.kaggle.com/jealousleopard/goodreadsbooks) dataset from Kaggle.\n",
    "- The [Open Library Books API](https://openlibrary.org/dev/docs/api/books)\n",
    "\n",
    "The goal of this livecode is to load the data from a CSV + loop over rows to enrich each row with information such as:\n",
    "\n",
    "- List of subjects (Science, Humor, Travel, etc.)\n",
    "- The cover URL of the book\n",
    "- Other information you'd find useful in the JSON API"
   ]
  },
  {
   "cell_type": "markdown",
   "metadata": {},
   "source": [
    "First, download the CSV in the local folder:"
   ]
  },
  {
   "cell_type": "code",
   "execution_count": null,
   "metadata": {},
   "outputs": [],
   "source": [
    "!curl -L https://gist.githubusercontent.com/ssaunier/351b17f5a7a009808b60aeacd1f4a036/raw/books.csv > books.csv"
   ]
  },
  {
   "cell_type": "code",
   "execution_count": null,
   "metadata": {},
   "outputs": [],
   "source": [
    "!ls -lh"
   ]
  },
  {
   "cell_type": "markdown",
   "metadata": {},
   "source": [
    "Then import the usual suspects!"
   ]
  },
  {
   "cell_type": "code",
   "execution_count": null,
   "metadata": {},
   "outputs": [],
   "source": [
    "import requests\n",
    "import pandas as pd\n",
    "import numpy as np"
   ]
  },
  {
   "cell_type": "markdown",
   "metadata": {},
   "source": [
    "## Load books from CSV"
   ]
  },
  {
   "cell_type": "code",
   "execution_count": null,
   "metadata": {},
   "outputs": [],
   "source": [
    "books_df = pd.read_csv('books.csv', on_bad_lines='skip')\n",
    "books_df = books_df.drop(columns=['bookID', 'isbn', 'average_rating', 'language_code', 'ratings_count', 'text_reviews_count'])\n",
    "books_df"
   ]
  },
  {
   "cell_type": "code",
   "execution_count": null,
   "metadata": {},
   "outputs": [],
   "source": [
    "books_df.dtypes"
   ]
  },
  {
   "cell_type": "markdown",
   "metadata": {},
   "source": [
    "Let's add a new column"
   ]
  },
  {
   "cell_type": "code",
   "execution_count": null,
   "metadata": {},
   "outputs": [],
   "source": [
    "books_df['cover_url'] = None\n",
    "books_df.head()"
   ]
  },
  {
   "cell_type": "markdown",
   "metadata": {},
   "source": [
    "## API - Open Library"
   ]
  },
  {
   "cell_type": "code",
   "execution_count": null,
   "metadata": {},
   "outputs": [],
   "source": [
    "def fetch_book(isbn):\n",
    "    # Define URL to be queried\n",
    "    url = 'https://openlibrary.org/api/books'\n",
    "    \n",
    "    # Define parameters to send with the HTTP request\n",
    "    params = {\n",
    "        'bibkeys': f'ISBN:{isbn}',\n",
    "        'format': 'json',\n",
    "        'jscmd': 'data'\n",
    "    }\n",
    "    \n",
    "    # Perform the request\n",
    "    response = requests.get(url, params=params).json()\n",
    "    \n",
    "    # Check whether ISBN is in the response\n",
    "    if f'ISBN:{isbn}' in response:\n",
    "        return response[f'ISBN:{isbn}']\n",
    "    else:\n",
    "        return ''"
   ]
  },
  {
   "cell_type": "code",
   "execution_count": null,
   "metadata": {},
   "outputs": [],
   "source": [
    "%%time\n",
    "\n",
    "# TODO: for row in rows => fetch_book => add column\n",
    "\n",
    "for index, row in books_df.head(15).iterrows():\n",
    "    # If the book has no cover URL, fetch it\n",
    "    if row['cover_url'] is None:\n",
    "        isbn = row['isbn13']\n",
    "        print(f\"Fetching cover for {row['title']}\")\n",
    "        \n",
    "        book = fetch_book(isbn)\n",
    "        \n",
    "        # If a book is found with that ISBN, fetch the cover URL\n",
    "        if book:\n",
    "            cover_url = book.get('cover', {}).get('large', '')\n",
    "            books_df.loc[index, 'cover_url'] = cover_url\n",
    "        else:\n",
    "            books_df.loc[index, 'cover_url'] = ''"
   ]
  },
  {
   "cell_type": "code",
   "execution_count": null,
   "metadata": {},
   "outputs": [],
   "source": [
    "books_df.head(15)"
   ]
  },
  {
   "cell_type": "markdown",
   "metadata": {},
   "source": [
    "## Calling the API with multiple ISBNs at a time"
   ]
  },
  {
   "cell_type": "code",
   "execution_count": null,
   "metadata": {},
   "outputs": [],
   "source": [
    "isbns = [9780439785969, 9780439358071, 9780439554930]\n",
    "[f\"ISBN:{isbn}\" for isbn in isbns]"
   ]
  },
  {
   "cell_type": "code",
   "execution_count": null,
   "metadata": {},
   "outputs": [],
   "source": [
    "\",\".join([f\"ISBN:{isbn}\" for isbn in isbns])"
   ]
  },
  {
   "cell_type": "code",
   "execution_count": null,
   "metadata": {},
   "outputs": [],
   "source": [
    "def fetch_books(isbns):\n",
    "    # Define the URL and build bibkeys from ISBN\n",
    "    url = \"https://openlibrary.org/api/books\"\n",
    "    bibkeys = \",\".join([f\"ISBN:{isbn}\" for isbn in isbns])\n",
    "    \n",
    "    # Define parameters for HTTP request\n",
    "    params = {\n",
    "        'bibkeys': bibkeys,\n",
    "        'format': 'json',\n",
    "        'jscmd': 'data'\n",
    "    }\n",
    "    \n",
    "    # Perform request\n",
    "    response = requests.get(url, params=params).json()\n",
    "    \n",
    "    return response"
   ]
  },
  {
   "cell_type": "code",
   "execution_count": null,
   "metadata": {},
   "outputs": [],
   "source": [
    "books_df.set_index(\"isbn13\", inplace=True)"
   ]
  },
  {
   "cell_type": "code",
   "execution_count": null,
   "metadata": {},
   "outputs": [],
   "source": [
    "books_df.head()"
   ]
  },
  {
   "cell_type": "code",
   "execution_count": null,
   "metadata": {},
   "outputs": [],
   "source": [
    "!pip install tqdm"
   ]
  },
  {
   "cell_type": "code",
   "execution_count": null,
   "metadata": {},
   "outputs": [],
   "source": [
    "%%time\n",
    "\n",
    "from tqdm import tqdm\n",
    "\n",
    "for group in tqdm(np.array_split(books_df.head(100), 5)): # 5 groups of 20 books\n",
    "    books = fetch_books(list(group.index))\n",
    "    \n",
    "    for isbn_code, book in books.items():\n",
    "        isbn = int(isbn_code.strip(\"ISBN:\"))\n",
    "        books_df.loc[isbn, \"cover_url\"] = book.get(\"cover\", {}).get(\"large\", \"\")"
   ]
  },
  {
   "cell_type": "code",
   "execution_count": null,
   "metadata": {},
   "outputs": [],
   "source": [
    "books_df.head(20)"
   ]
  }
 ],
 "metadata": {
  "kernelspec": {
   "display_name": "Python 3",
   "language": "python",
   "name": "python3"
  }
 },
 "nbformat": 4,
 "nbformat_minor": 4
}
